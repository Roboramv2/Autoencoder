{
  "nbformat": 4,
  "nbformat_minor": 0,
  "metadata": {
    "colab": {
      "name": "Final ML autoencoders.ipynb",
      "provenance": [],
      "collapsed_sections": []
    },
    "kernelspec": {
      "display_name": "Python 3",
      "name": "python3"
    },
    "language_info": {
      "name": "python"
    }
  },
  "cells": [
    {
      "cell_type": "markdown",
      "metadata": {
        "id": "2kLWsaoYwUx_"
      },
      "source": [
        "# Image Compression and Decompression"
      ]
    },
    {
      "cell_type": "markdown",
      "metadata": {
        "id": "iAadyGNsvdj9"
      },
      "source": [
        "## Downloading the data and preprocessing it"
      ]
    },
    {
      "cell_type": "code",
      "metadata": {
        "colab": {
          "base_uri": "https://localhost:8080/"
        },
        "id": "xfD4akISxmtV",
        "outputId": "af1e0c7b-0797-4477-c05e-eed6d4efa944"
      },
      "source": [
        "from keras.datasets import mnist\n",
        "import numpy as np\n",
        "\n",
        "(x_train, _), (x_test, _) = mnist.load_data() \n",
        "\n",
        "x_train = x_train.astype('float32') / 255.\n",
        "x_test = x_test.astype('float32') / 255.\n",
        "print(x_train.shape,x_test.shape)\n",
        "x_train = np.reshape(x_train, (len(x_train), 28, 28, 1))\n",
        "x_test = np.reshape(x_test, (len(x_test), 28, 28, 1))"
      ],
      "execution_count": null,
      "outputs": [
        {
          "output_type": "stream",
          "text": [
            "Downloading data from https://storage.googleapis.com/tensorflow/tf-keras-datasets/mnist.npz\n",
            "11493376/11490434 [==============================] - 0s 0us/step\n",
            "(60000, 28, 28) (10000, 28, 28)\n"
          ],
          "name": "stdout"
        }
      ]
    },
    {
      "cell_type": "code",
      "metadata": {
        "colab": {
          "base_uri": "https://localhost:8080/"
        },
        "id": "G9zJDjGn3fz1",
        "outputId": "ecbddf81-2b64-43ff-b815-b77352116809"
      },
      "source": [
        "x_train.shape,x_test.shape"
      ],
      "execution_count": null,
      "outputs": [
        {
          "output_type": "execute_result",
          "data": {
            "text/plain": [
              "((60000, 28, 28, 1), (10000, 28, 28, 1))"
            ]
          },
          "metadata": {
            "tags": []
          },
          "execution_count": 3
        }
      ]
    },
    {
      "cell_type": "markdown",
      "metadata": {
        "id": "bGQeu4divh8U"
      },
      "source": [
        "## Visualising training data image"
      ]
    },
    {
      "cell_type": "code",
      "metadata": {
        "colab": {
          "base_uri": "https://localhost:8080/",
          "height": 265
        },
        "id": "uiRAons14Euf",
        "outputId": "f1bebba8-f2ec-4d70-9a5f-cc48af1c3108"
      },
      "source": [
        "from matplotlib import pyplot as plt\n",
        "import numpy as np\n",
        "\n",
        "first_image = x_train[0]\n",
        "first_image = np.array(first_image, dtype='float')\n",
        "pixels = first_image.reshape((28, 28))\n",
        "plt.imshow(pixels, cmap='gray')\n",
        "plt.show()"
      ],
      "execution_count": null,
      "outputs": [
        {
          "output_type": "display_data",
          "data": {
            "image/png": "[encoded data removed]",
            "text/plain": [
              "<Figure size 432x288 with 1 Axes>"
            ]
          },
          "metadata": {
            "tags": [],
            "needs_background": "light"
          }
        }
      ]
    },
    {
      "cell_type": "markdown",
      "metadata": {
        "id": "oEYE346GvZHm"
      },
      "source": [
        "## Creating the Autoencoder"
      ]
    },
    {
      "cell_type": "code",
      "metadata": {
        "id": "AH-NP4gf3g2B"
      },
      "source": [
        "import keras\n",
        "from keras import layers\n",
        "\n",
        "input_img = keras.Input(shape=(28, 28, 1))\n",
        "\n",
        "x = layers.Conv2D(16, (3, 3), activation='relu', padding='same')(input_img)\n",
        "x = layers.MaxPooling2D((2, 2), padding='same')(x)\n",
        "x = layers.Conv2D(8, (3, 3), activation='relu', padding='same')(x)\n",
        "x = layers.MaxPooling2D((2, 2), padding='same')(x)\n",
        "x = layers.Conv2D(8, (3, 3), activation='relu', padding='same')(x)\n",
        "encoded = layers.MaxPooling2D((2, 2), padding='same')(x)\n",
        "\n",
        "# at this point the representation is (4, 4, 8) i.e. 128-dimensional\n",
        "\n",
        "x = layers.Conv2D(8, (3, 3), activation='relu', padding='same')(encoded)\n",
        "x = layers.UpSampling2D((2, 2))(x)\n",
        "x = layers.Conv2D(8, (3, 3), activation='relu', padding='same')(x)\n",
        "x = layers.UpSampling2D((2, 2))(x)\n",
        "x = layers.Conv2D(16, (3, 3), activation='relu')(x)\n",
        "x = layers.UpSampling2D((2, 2))(x)\n",
        "decoded = layers.Conv2D(1, (3, 3), activation='sigmoid', padding='same')(x)\n",
        "\n",
        "autoencoder = keras.Model(input_img, decoded)\n",
        "autoencoder.compile(optimizer='adam', loss='binary_crossentropy')"
      ],
      "execution_count": null,
      "outputs": []
    },
    {
      "cell_type": "code",
      "metadata": {
        "colab": {
          "base_uri": "https://localhost:8080/"
        },
        "id": "wOliDws6Kmgi",
        "outputId": "f4d83be6-976b-41b9-eacd-4b8e5348d281"
      },
      "source": [
        "autoencoder.summary()"
      ],
      "execution_count": null,
      "outputs": [
        {
          "output_type": "stream",
          "text": [
            "Model: \"model\"\n",
            "_________________________________________________________________\n",
            "Layer (type)                 Output Shape              Param #   \n",
            "=================================================================\n",
            "input_1 (InputLayer)         [(None, 28, 28, 1)]       0         \n",
            "_________________________________________________________________\n",
            "conv2d (Conv2D)              (None, 28, 28, 16)        160       \n",
            "_________________________________________________________________\n",
            "max_pooling2d (MaxPooling2D) (None, 14, 14, 16)        0         \n",
            "_________________________________________________________________\n",
            "conv2d_1 (Conv2D)            (None, 14, 14, 8)         1160      \n",
            "_________________________________________________________________\n",
            "max_pooling2d_1 (MaxPooling2 (None, 7, 7, 8)           0         \n",
            "_________________________________________________________________\n",
            "conv2d_2 (Conv2D)            (None, 7, 7, 8)           584       \n",
            "_________________________________________________________________\n",
            "max_pooling2d_2 (MaxPooling2 (None, 4, 4, 8)           0         \n",
            "_________________________________________________________________\n",
            "conv2d_3 (Conv2D)            (None, 4, 4, 8)           584       \n",
            "_________________________________________________________________\n",
            "up_sampling2d (UpSampling2D) (None, 8, 8, 8)           0         \n",
            "_________________________________________________________________\n",
            "conv2d_4 (Conv2D)            (None, 8, 8, 8)           584       \n",
            "_________________________________________________________________\n",
            "up_sampling2d_1 (UpSampling2 (None, 16, 16, 8)         0         \n",
            "_________________________________________________________________\n",
            "conv2d_5 (Conv2D)            (None, 14, 14, 16)        1168      \n",
            "_________________________________________________________________\n",
            "up_sampling2d_2 (UpSampling2 (None, 28, 28, 16)        0         \n",
            "_________________________________________________________________\n",
            "conv2d_6 (Conv2D)            (None, 28, 28, 1)         145       \n",
            "=================================================================\n",
            "Total params: 4,385\n",
            "Trainable params: 4,385\n",
            "Non-trainable params: 0\n",
            "_________________________________________________________________\n"
          ],
          "name": "stdout"
        }
      ]
    },
    {
      "cell_type": "code",
      "metadata": {
        "id": "G3YtZVlmNNmC"
      },
      "source": [
        "from keras.utils import plot_model\n",
        "plot_model(autoencoder, to_file='model_plot.png', show_shapes=True, show_layer_names=True)"
      ],
      "execution_count": null,
      "outputs": []
    },
    {
      "cell_type": "markdown",
      "metadata": {
        "id": "MLJ6M1qfvnvN"
      },
      "source": [
        "## Training the autoencoder"
      ]
    },
    {
      "cell_type": "code",
      "metadata": {
        "colab": {
          "base_uri": "https://localhost:8080/"
        },
        "id": "HLd67Z5M4v1v",
        "outputId": "5a1bb544-0ca9-479c-d1d6-e57bd3ca4e98"
      },
      "source": [
        "history = autoencoder.fit(x_train, x_train,\n",
        "                epochs=5,\n",
        "                batch_size=128,\n",
        "                shuffle=True,\n",
        "                validation_data=(x_test, x_test))"
      ],
      "execution_count": null,
      "outputs": [
        {
          "output_type": "stream",
          "text": [
            "Epoch 1/5\n",
            "469/469 [==============================] - 78s 165ms/step - loss: 0.3232 - val_loss: 0.1396\n",
            "Epoch 2/5\n",
            "469/469 [==============================] - 78s 166ms/step - loss: 0.1350 - val_loss: 0.1230\n",
            "Epoch 3/5\n",
            "469/469 [==============================] - 79s 168ms/step - loss: 0.1220 - val_loss: 0.1157\n",
            "Epoch 4/5\n",
            "469/469 [==============================] - 77s 164ms/step - loss: 0.1155 - val_loss: 0.1113\n",
            "Epoch 5/5\n",
            "469/469 [==============================] - 77s 165ms/step - loss: 0.1116 - val_loss: 0.1081\n"
          ],
          "name": "stdout"
        }
      ]
    },
    {
      "cell_type": "code",
      "metadata": {
        "id": "2tbroSgXs17u"
      },
      "source": [
        "autoencoder.save(\"autoencoder.h5\")"
      ],
      "execution_count": null,
      "outputs": []
    },
    {
      "cell_type": "code",
      "metadata": {
        "id": "7X30M89vTSsB"
      },
      "source": [
        "from keras.models import load_model\n",
        "autoencoder=load_model(\"autoencoder.h5\")"
      ],
      "execution_count": null,
      "outputs": []
    },
    {
      "cell_type": "markdown",
      "metadata": {
        "id": "H6yNXxWRvut9"
      },
      "source": [
        "## Testing the trained model and comparing it with the original data"
      ]
    },
    {
      "cell_type": "code",
      "metadata": {
        "colab": {
          "base_uri": "https://localhost:8080/",
          "height": 248
        },
        "id": "OyPzYqf95g4p",
        "outputId": "a4ba9d2c-7b1f-4448-a001-3c9c1bc1f015"
      },
      "source": [
        "decoded_imgs = autoencoder.predict(x_test)\n",
        "\n",
        "n = 10\n",
        "plt.figure(figsize=(20, 4))\n",
        "for i in range(1, n + 1):\n",
        "    # Display original\n",
        "    ax = plt.subplot(2, n, i)\n",
        "    plt.imshow(x_test[i].reshape(28, 28))\n",
        "    plt.gray()\n",
        "    ax.get_xaxis().set_visible(False)\n",
        "    ax.get_yaxis().set_visible(False)\n",
        "\n",
        "    # Display reconstruction\n",
        "    ax = plt.subplot(2, n, i + n)\n",
        "    plt.imshow(decoded_imgs[i].reshape(28, 28))\n",
        "    plt.gray()\n",
        "    ax.get_xaxis().set_visible(False)\n",
        "    ax.get_yaxis().set_visible(False)\n",
        "plt.show()"
      ],
      "execution_count": null,
      "outputs": [
        {
          "output_type": "display_data",
          "data": {
            "image/png": "[encoded data removed]",
            "text/plain": [
              "<Figure size 1440x288 with 20 Axes>"
            ]
          },
          "metadata": {
            "tags": [],
            "needs_background": "light"
          }
        }
      ]
    },
    {
      "cell_type": "markdown",
      "metadata": {
        "id": "FNv-3DVo3ZQz"
      },
      "source": [
        "## Visualising the states of a image through the autoencoder"
      ]
    },
    {
      "cell_type": "code",
      "metadata": {
        "id": "iVmXrB3j__sU"
      },
      "source": [
        "from tensorflow.keras import Sequential\n",
        "import tensorflow as tf\n",
        "\n",
        "#encoder model\n",
        "model=tf.keras.models.Sequential([\n",
        "    \n",
        "    tf.keras.layers.Conv2D(16,(3,3),activation ='relu', input_shape=(28,28,1)),\n",
        "    tf.keras.layers.MaxPooling2D(2,2),\n",
        "    \n",
        "    tf.keras.layers.Conv2D(8,(3,3),activation ='relu'),\n",
        "    tf.keras.layers.MaxPooling2D(2,2),\n",
        "    \n",
        "    tf.keras.layers.Conv2D(8,(3,3),activation ='relu'),\n",
        "    tf.keras.layers.MaxPooling2D(2,2),\n",
        "    \n",
        "    tf.keras.layers.Flatten(),   \n",
        " ])"
      ],
      "execution_count": null,
      "outputs": []
    },
    {
      "cell_type": "code",
      "metadata": {
        "colab": {
          "base_uri": "https://localhost:8080/",
          "height": 789
        },
        "id": "J4dX5x5m3p07",
        "outputId": "2ec6f9ab-f49c-477e-9c15-f73de4b7cdf4"
      },
      "source": [
        "def visualize(img,encoder):\n",
        "    code = encoder.predict(img[None])[0]\n",
        "    \n",
        "    # Display original\n",
        "    plt.title(\"Original Image\")\n",
        "    plt.imshow(x_test[0].reshape(28, 28))\n",
        "    plt.gray()\n",
        "    ax.get_xaxis().set_visible(False)\n",
        "    ax.get_yaxis().set_visible(False)\n",
        "    plt.show()\n",
        "\n",
        "    #Display compressed\n",
        "    plt.subplot(1,3,2)\n",
        "    plt.title(\"Compressed Image\")\n",
        "    plt.imshow(code.reshape([code.shape[-1]//2,-1]))\n",
        "    plt.show()\n",
        "\n",
        "    # Display reconstruction\n",
        "    plt.title(\"Decompressed Image\")\n",
        "    plt.imshow(decoded_imgs[0].reshape(28, 28))\n",
        "    plt.gray()\n",
        "    ax.get_xaxis().set_visible(False)\n",
        "    ax.get_yaxis().set_visible(False)\n",
        "    plt.show()\n",
        "\n",
        "visualize(x_test[0],model)"
      ],
      "execution_count": null,
      "outputs": [
        {
          "output_type": "display_data",
          "data": {
            "image/png": "[encoded data removed]",
            "text/plain": [
              "<Figure size 432x288 with 1 Axes>"
            ]
          },
          "metadata": {
            "tags": [],
            "needs_background": "light"
          }
        },
        {
          "output_type": "display_data",
          "data": {
            "image/png": "[encoded data removed]",
            "text/plain": [
              "<Figure size 432x288 with 1 Axes>"
            ]
          },
          "metadata": {
            "tags": [],
            "needs_background": "light"
          }
        },
        {
          "output_type": "display_data",
          "data": {
            "image/png": "[encoded data removed]",
            "text/plain": [
              "<Figure size 432x288 with 1 Axes>"
            ]
          },
          "metadata": {
            "tags": [],
            "needs_background": "light"
          }
        }
      ]
    },
    {
      "cell_type": "markdown",
      "metadata": {
        "id": "fzr_M9Q9wJvL"
      },
      "source": [
        "## Analysing the loss wrt epoch"
      ]
    },
    {
      "cell_type": "code",
      "metadata": {
        "colab": {
          "base_uri": "https://localhost:8080/",
          "height": 295
        },
        "id": "8B8gjmAXvEtw",
        "outputId": "676f301d-770b-4b3b-bc14-723e67a5757a"
      },
      "source": [
        "plt.plot(history.history['loss'])\n",
        "plt.plot(history.history['val_loss'])\n",
        "plt.title('model loss')\n",
        "plt.ylabel('loss')\n",
        "plt.xlabel('epoch')\n",
        "plt.legend(['train', 'test'], loc='upper left')\n",
        "plt.show()"
      ],
      "execution_count": null,
      "outputs": [
        {
          "output_type": "display_data",
          "data": {
            "image/png": "[encoded data removed]",
            "text/plain": [
              "<Figure size 432x288 with 1 Axes>"
            ]
          },
          "metadata": {
            "tags": [],
            "needs_background": "light"
          }
        }
      ]
    },
    {
      "cell_type": "markdown",
      "metadata": {
        "id": "tG8go4Kp9dB1"
      },
      "source": [
        "# Denoising model for the Decompressed Image"
      ]
    },
    {
      "cell_type": "markdown",
      "metadata": {
        "id": "UDJ_L_jYZY-A"
      },
      "source": [
        "## Adding noise to the train and test data\n",
        "\n",
        "\n"
      ]
    },
    {
      "cell_type": "code",
      "metadata": {
        "id": "dZVDMhYD4miM"
      },
      "source": [
        "# Adding random noise to the images\n",
        "noise_factor = 0.5\n",
        "x_train_noisy = x_train + noise_factor * np.random.normal(loc=0.0, scale=1.0, size=x_train.shape) \n",
        "x_test_noisy = x_test + noise_factor * np.random.normal(loc=0.0, scale=1.0, size=x_test.shape) \n",
        "\n",
        "x_train_noisy = np.clip(x_train_noisy, 0., 1.)\n",
        "x_test_noisy = np.clip(x_test_noisy, 0., 1.)"
      ],
      "execution_count": null,
      "outputs": []
    },
    {
      "cell_type": "markdown",
      "metadata": {
        "id": "GG5aaZl6wgWj"
      },
      "source": [
        "## Visualising the training data"
      ]
    },
    {
      "cell_type": "code",
      "metadata": {
        "colab": {
          "base_uri": "https://localhost:8080/",
          "height": 119
        },
        "id": "0ophz12s5bUU",
        "outputId": "bcba57ea-eac0-47b7-8b27-67bedbb864f8"
      },
      "source": [
        "n = 10\n",
        "plt.figure(figsize=(20, 2))\n",
        "for i in range(1, n + 1):\n",
        "    ax = plt.subplot(1, n, i)\n",
        "    plt.imshow(x_test_noisy[i].reshape(28, 28))\n",
        "    plt.gray()\n",
        "    ax.get_xaxis().set_visible(False)\n",
        "    ax.get_yaxis().set_visible(False)\n",
        "print(\"Training Data:\")\n",
        "plt.show()"
      ],
      "execution_count": null,
      "outputs": [
        {
          "output_type": "stream",
          "text": [
            "Training Data:\n"
          ],
          "name": "stdout"
        },
        {
          "output_type": "display_data",
          "data": {
            "image/png": "[encoded data removed]",
            "text/plain": [
              "<Figure size 1440x144 with 10 Axes>"
            ]
          },
          "metadata": {
            "tags": [],
            "needs_background": "light"
          }
        }
      ]
    },
    {
      "cell_type": "markdown",
      "metadata": {
        "id": "PR2b8JkQwnRt"
      },
      "source": [
        "## Creating the encoder model"
      ]
    },
    {
      "cell_type": "code",
      "metadata": {
        "id": "rvo_NHAA9iLi"
      },
      "source": [
        "input_img = keras.Input(shape=(28, 28, 1))\n",
        "\n",
        "x = layers.Conv2D(32, (3, 3), activation='relu', padding='same')(input_img)\n",
        "x = layers.MaxPooling2D((2, 2), padding='same')(x)\n",
        "x = layers.Conv2D(32, (3, 3), activation='relu', padding='same')(x)\n",
        "encoded = layers.MaxPooling2D((2, 2), padding='same')(x)\n",
        "\n",
        "# At this point the representation is (7, 7, 32)\n",
        "\n",
        "x = layers.Conv2D(32, (3, 3), activation='relu', padding='same')(encoded)\n",
        "x = layers.UpSampling2D((2, 2))(x)\n",
        "x = layers.Conv2D(32, (3, 3), activation='relu', padding='same')(x)\n",
        "x = layers.UpSampling2D((2, 2))(x)\n",
        "decoded = layers.Conv2D(1, (3, 3), activation='sigmoid', padding='same')(x)\n",
        "\n",
        "autoencoder = keras.Model(input_img, decoded)\n",
        "autoencoder.compile(optimizer='adam', loss='binary_crossentropy')"
      ],
      "execution_count": null,
      "outputs": []
    },
    {
      "cell_type": "markdown",
      "metadata": {
        "id": "JzPmtc7Lwq1m"
      },
      "source": [
        "## Training the model"
      ]
    },
    {
      "cell_type": "code",
      "metadata": {
        "colab": {
          "base_uri": "https://localhost:8080/"
        },
        "id": "7VFQLFYx9lGo",
        "outputId": "9fcd3829-780d-418e-8a67-aa63c63bb845"
      },
      "source": [
        "history2 = autoencoder.fit(x_train_noisy, x_train,\n",
        "                epochs=50,\n",
        "                batch_size=128,\n",
        "                shuffle=True,\n",
        "                validation_data=(x_test_noisy, x_test))"
      ],
      "execution_count": null,
      "outputs": [
        {
          "output_type": "stream",
          "text": [
            "Epoch 1/50\n",
            "469/469 [==============================] - 143s 304ms/step - loss: 0.0946 - val_loss: 0.0939\n",
            "Epoch 2/50\n",
            "469/469 [==============================] - 142s 304ms/step - loss: 0.0944 - val_loss: 0.0938\n",
            "Epoch 3/50\n",
            "469/469 [==============================] - 142s 304ms/step - loss: 0.0944 - val_loss: 0.0938\n",
            "Epoch 4/50\n",
            "469/469 [==============================] - 142s 303ms/step - loss: 0.0943 - val_loss: 0.0938\n",
            "Epoch 5/50\n",
            "469/469 [==============================] - 143s 304ms/step - loss: 0.0942 - val_loss: 0.0937\n",
            "Epoch 6/50\n",
            "469/469 [==============================] - 143s 304ms/step - loss: 0.0942 - val_loss: 0.0937\n",
            "Epoch 7/50\n",
            "469/469 [==============================] - 143s 304ms/step - loss: 0.0941 - val_loss: 0.0939\n",
            "Epoch 8/50\n",
            "469/469 [==============================] - 143s 305ms/step - loss: 0.0941 - val_loss: 0.0937\n",
            "Epoch 9/50\n",
            "469/469 [==============================] - 143s 305ms/step - loss: 0.0940 - val_loss: 0.0938\n",
            "Epoch 10/50\n",
            "469/469 [==============================] - 143s 305ms/step - loss: 0.0940 - val_loss: 0.0939\n",
            "Epoch 11/50\n",
            "469/469 [==============================] - 143s 305ms/step - loss: 0.0940 - val_loss: 0.0937\n",
            "Epoch 12/50\n",
            "469/469 [==============================] - 144s 307ms/step - loss: 0.0939 - val_loss: 0.0936\n",
            "Epoch 13/50\n",
            "469/469 [==============================] - 143s 305ms/step - loss: 0.0939 - val_loss: 0.0937\n",
            "Epoch 14/50\n",
            "469/469 [==============================] - 144s 306ms/step - loss: 0.0939 - val_loss: 0.0936\n",
            "Epoch 15/50\n",
            "469/469 [==============================] - 144s 307ms/step - loss: 0.0939 - val_loss: 0.0937\n",
            "Epoch 16/50\n",
            "469/469 [==============================] - 143s 306ms/step - loss: 0.0938 - val_loss: 0.0936\n",
            "Epoch 17/50\n",
            "469/469 [==============================] - 144s 306ms/step - loss: 0.0938 - val_loss: 0.0937\n",
            "Epoch 18/50\n",
            "469/469 [==============================] - 144s 306ms/step - loss: 0.0938 - val_loss: 0.0935\n",
            "Epoch 19/50\n",
            "469/469 [==============================] - 143s 306ms/step - loss: 0.0938 - val_loss: 0.0937\n",
            "Epoch 20/50\n",
            "469/469 [==============================] - 143s 306ms/step - loss: 0.0937 - val_loss: 0.0937\n",
            "Epoch 21/50\n",
            "469/469 [==============================] - 143s 304ms/step - loss: 0.0937 - val_loss: 0.0936\n",
            "Epoch 22/50\n",
            "469/469 [==============================] - 143s 305ms/step - loss: 0.0937 - val_loss: 0.0938\n",
            "Epoch 23/50\n",
            "469/469 [==============================] - 142s 304ms/step - loss: 0.0937 - val_loss: 0.0936\n",
            "Epoch 24/50\n",
            "469/469 [==============================] - 143s 306ms/step - loss: 0.0937 - val_loss: 0.0939\n",
            "Epoch 25/50\n",
            "469/469 [==============================] - 144s 306ms/step - loss: 0.0937 - val_loss: 0.0938\n",
            "Epoch 26/50\n",
            "469/469 [==============================] - 143s 306ms/step - loss: 0.0936 - val_loss: 0.0935\n",
            "Epoch 27/50\n",
            "469/469 [==============================] - 143s 304ms/step - loss: 0.0936 - val_loss: 0.0934\n",
            "Epoch 28/50\n",
            "469/469 [==============================] - 143s 306ms/step - loss: 0.0936 - val_loss: 0.0936\n",
            "Epoch 29/50\n",
            "469/469 [==============================] - 143s 304ms/step - loss: 0.0936 - val_loss: 0.0936\n",
            "Epoch 30/50\n",
            "469/469 [==============================] - 143s 305ms/step - loss: 0.0936 - val_loss: 0.0937\n",
            "Epoch 31/50\n",
            "469/469 [==============================] - 143s 306ms/step - loss: 0.0936 - val_loss: 0.0934\n",
            "Epoch 32/50\n",
            "469/469 [==============================] - 143s 305ms/step - loss: 0.0936 - val_loss: 0.0935\n",
            "Epoch 33/50\n",
            "469/469 [==============================] - 143s 305ms/step - loss: 0.0935 - val_loss: 0.0934\n",
            "Epoch 34/50\n",
            "469/469 [==============================] - 143s 304ms/step - loss: 0.0935 - val_loss: 0.0934\n",
            "Epoch 35/50\n",
            "469/469 [==============================] - 143s 304ms/step - loss: 0.0935 - val_loss: 0.0940\n",
            "Epoch 36/50\n",
            "469/469 [==============================] - 142s 303ms/step - loss: 0.0935 - val_loss: 0.0935\n",
            "Epoch 37/50\n",
            "469/469 [==============================] - 143s 304ms/step - loss: 0.0935 - val_loss: 0.0935\n",
            "Epoch 38/50\n",
            "469/469 [==============================] - 142s 303ms/step - loss: 0.0935 - val_loss: 0.0934\n",
            "Epoch 39/50\n",
            "469/469 [==============================] - 143s 304ms/step - loss: 0.0934 - val_loss: 0.0934\n",
            "Epoch 40/50\n",
            "469/469 [==============================] - 142s 304ms/step - loss: 0.0935 - val_loss: 0.0934\n",
            "Epoch 41/50\n",
            "469/469 [==============================] - 142s 304ms/step - loss: 0.0934 - val_loss: 0.0934\n",
            "Epoch 42/50\n",
            "469/469 [==============================] - 142s 303ms/step - loss: 0.0934 - val_loss: 0.0935\n",
            "Epoch 43/50\n",
            "469/469 [==============================] - 143s 304ms/step - loss: 0.0934 - val_loss: 0.0935\n",
            "Epoch 44/50\n",
            "469/469 [==============================] - 143s 305ms/step - loss: 0.0934 - val_loss: 0.0933\n",
            "Epoch 45/50\n",
            "469/469 [==============================] - 143s 305ms/step - loss: 0.0934 - val_loss: 0.0934\n",
            "Epoch 46/50\n",
            "469/469 [==============================] - 142s 304ms/step - loss: 0.0934 - val_loss: 0.0933\n",
            "Epoch 47/50\n",
            "469/469 [==============================] - 142s 304ms/step - loss: 0.0934 - val_loss: 0.0934\n",
            "Epoch 48/50\n",
            "469/469 [==============================] - 143s 305ms/step - loss: 0.0933 - val_loss: 0.0935\n",
            "Epoch 49/50\n",
            "469/469 [==============================] - 143s 304ms/step - loss: 0.0934 - val_loss: 0.0934\n",
            "Epoch 50/50\n",
            "469/469 [==============================] - 143s 305ms/step - loss: 0.0933 - val_loss: 0.0934\n"
          ],
          "name": "stdout"
        }
      ]
    },
    {
      "cell_type": "code",
      "metadata": {
        "id": "CJFxZSLIZhy7"
      },
      "source": [
        "from keras import models\n",
        "autoencoder = models.load_model('denoising_model.h5')"
      ],
      "execution_count": null,
      "outputs": []
    },
    {
      "cell_type": "markdown",
      "metadata": {
        "id": "uXuIOPLRwvk1"
      },
      "source": [
        "## Visualising the results of denoising the decompressed data"
      ]
    },
    {
      "cell_type": "code",
      "metadata": {
        "colab": {
          "base_uri": "https://localhost:8080/",
          "height": 192
        },
        "id": "qGRR7tOe_zW7",
        "outputId": "d7ffcde4-f1ca-400d-eaca-beb1492a9430"
      },
      "source": [
        "denoised_imgs = autoencoder.predict(decoded_imgs)\n",
        "\n",
        "n = 10\n",
        "plt.figure(figsize=(20, 4))\n",
        "for i in range(1, n + 1):\n",
        "    # Display original\n",
        "    ax = plt.subplot(2, n, i)\n",
        "    plt.imshow(decoded_imgs[i].reshape(28, 28))\n",
        "    plt.gray()\n",
        "    ax.get_xaxis().set_visible(False)\n",
        "    ax.get_yaxis().set_visible(False)\n",
        "\n",
        "    # Display reconstruction\n",
        "    ax = plt.subplot(2, n, i + n)\n",
        "    plt.imshow(denoised_imgs[i].reshape(28, 28))\n",
        "    plt.gray()\n",
        "    ax.get_xaxis().set_visible(False)\n",
        "    ax.get_yaxis().set_visible(False)\n",
        "plt.show()"
      ],
      "execution_count": null,
      "outputs": [
        {
          "output_type": "display_data",
          "data": {
            "image/png": "[encoded data removed]",
            "text/plain": [
              "<Figure size 1440x288 with 20 Axes>"
            ]
          },
          "metadata": {
            "tags": [],
            "needs_background": "light"
          }
        }
      ]
    },
    {
      "cell_type": "markdown",
      "metadata": {
        "id": "f1w_nNvG5ptK"
      },
      "source": [
        "## Analysing the loss wrt epoch"
      ]
    },
    {
      "cell_type": "code",
      "metadata": {
        "colab": {
          "base_uri": "https://localhost:8080/",
          "height": 235
        },
        "id": "BMrA1VTj5i57",
        "outputId": "42c906ed-e77d-4651-e4c2-3cd690a9e22b"
      },
      "source": [
        "plt.plot(history2.history['loss'])\n",
        "plt.plot(history2.history['val_loss'])\n",
        "plt.title('model loss')\n",
        "plt.ylabel('loss')\n",
        "plt.xlabel('epoch')\n",
        "plt.legend(['train', 'test'], loc='upper left')\n",
        "plt.show()"
      ],
      "execution_count": null,
      "outputs": [
        {
          "output_type": "error",
          "ename": "NameError",
          "evalue": "ignored",
          "traceback": [
            "\u001b[0;31m---------------------------------------------------------------------------\u001b[0m",
            "\u001b[0;31mNameError\u001b[0m                                 Traceback (most recent call last)",
            "\u001b[0;32m<ipython-input-36-81b43cbf3eff>\u001b[0m in \u001b[0;36m<module>\u001b[0;34m()\u001b[0m\n\u001b[0;32m----> 1\u001b[0;31m \u001b[0mplt\u001b[0m\u001b[0;34m.\u001b[0m\u001b[0mplot\u001b[0m\u001b[0;34m(\u001b[0m\u001b[0mhistory2\u001b[0m\u001b[0;34m.\u001b[0m\u001b[0mhistory\u001b[0m\u001b[0;34m[\u001b[0m\u001b[0;34m'loss'\u001b[0m\u001b[0;34m]\u001b[0m\u001b[0;34m)\u001b[0m\u001b[0;34m\u001b[0m\u001b[0;34m\u001b[0m\u001b[0m\n\u001b[0m\u001b[1;32m      2\u001b[0m \u001b[0mplt\u001b[0m\u001b[0;34m.\u001b[0m\u001b[0mplot\u001b[0m\u001b[0;34m(\u001b[0m\u001b[0mhistory2\u001b[0m\u001b[0;34m.\u001b[0m\u001b[0mhistory\u001b[0m\u001b[0;34m[\u001b[0m\u001b[0;34m'val_loss'\u001b[0m\u001b[0;34m]\u001b[0m\u001b[0;34m)\u001b[0m\u001b[0;34m\u001b[0m\u001b[0;34m\u001b[0m\u001b[0m\n\u001b[1;32m      3\u001b[0m \u001b[0mplt\u001b[0m\u001b[0;34m.\u001b[0m\u001b[0mtitle\u001b[0m\u001b[0;34m(\u001b[0m\u001b[0;34m'model loss'\u001b[0m\u001b[0;34m)\u001b[0m\u001b[0;34m\u001b[0m\u001b[0;34m\u001b[0m\u001b[0m\n\u001b[1;32m      4\u001b[0m \u001b[0mplt\u001b[0m\u001b[0;34m.\u001b[0m\u001b[0mylabel\u001b[0m\u001b[0;34m(\u001b[0m\u001b[0;34m'loss'\u001b[0m\u001b[0;34m)\u001b[0m\u001b[0;34m\u001b[0m\u001b[0;34m\u001b[0m\u001b[0m\n\u001b[1;32m      5\u001b[0m \u001b[0mplt\u001b[0m\u001b[0;34m.\u001b[0m\u001b[0mxlabel\u001b[0m\u001b[0;34m(\u001b[0m\u001b[0;34m'epoch'\u001b[0m\u001b[0;34m)\u001b[0m\u001b[0;34m\u001b[0m\u001b[0;34m\u001b[0m\u001b[0m\n",
            "\u001b[0;31mNameError\u001b[0m: name 'history2' is not defined"
          ]
        }
      ]
    },
    {
      "cell_type": "markdown",
      "metadata": {
        "id": "Oo_Q8PPjxGMN"
      },
      "source": [
        "## Quality Metrics - PSNR"
      ]
    },
    {
      "cell_type": "code",
      "metadata": {
        "colab": {
          "base_uri": "https://localhost:8080/"
        },
        "id": "i6u3cIKQAVQg",
        "outputId": "9947e552-6ce1-456e-b410-ace2a1f41fa6"
      },
      "source": [
        "from math import log10, sqrt\n",
        "import cv2\n",
        "import numpy as np\n",
        "\n",
        "def PSNR(original, compressed):\n",
        "    mse = np.mean((original - decompressed) ** 2)\n",
        "    if(mse == 0):  # MSE is zero means no noise is present in the signal .\n",
        "                  # Therefore PSNR have no importance.\n",
        "        return 100\n",
        "    max_pixel = 255.0\n",
        "    psnr = 20 * log10(max_pixel / sqrt(mse))\n",
        "    return psnr\n",
        "\n",
        "psnr=0\n",
        "for i in range(0,50):\n",
        "  original = x_test[i].reshape(28, 28)\n",
        "  decompressed =denoised_imgs[i].reshape(28,28)\n",
        "  value = PSNR(original, decompressed)\n",
        "  psnr+=value\n",
        "psnr=psnr/50\n",
        "print(f\"PSNR value is {psnr} dB\")\n",
        "       \n"
      ],
      "execution_count": null,
      "outputs": [
        {
          "output_type": "stream",
          "text": [
            "PSNR value is 67.59328823437038 dB\n"
          ],
          "name": "stdout"
        }
      ]
    }
  ]
}